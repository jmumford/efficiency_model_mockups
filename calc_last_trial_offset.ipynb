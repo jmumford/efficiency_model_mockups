{
 "cells": [
  {
   "cell_type": "code",
   "execution_count": 1,
   "metadata": {},
   "outputs": [],
   "source": [
    "import pandas as pd\n",
    "import numpy as np\n",
    "import os \n",
    "import glob\n",
    "import re"
   ]
  },
  {
   "cell_type": "code",
   "execution_count": 2,
   "metadata": {},
   "outputs": [],
   "source": [
    "rootdir = '/Users/jeanettemumford/Dropbox/Research/Projects/patrick/efficiency_rdoc/final_designs/'"
   ]
  },
  {
   "cell_type": "code",
   "execution_count": 3,
   "metadata": {},
   "outputs": [],
   "source": [
    "task_dirs = glob.glob(f'{rootdir}/*')"
   ]
  },
  {
   "cell_type": "code",
   "execution_count": 7,
   "metadata": {},
   "outputs": [
    {
     "name": "stdout",
     "output_type": "stream",
     "text": [
      "stop_signal\n",
      "Offset of last stimulus for task stop_signal, design 83441: 482.321s\n",
      "Offset of last stimulus for task stop_signal, design 92817: 482.637s\n",
      "Offset of last stimulus for task stop_signal, design 77044: 485.213s\n",
      "Offset of last stimulus for task stop_signal, design 41046: 483.965s\n",
      "Offset of last stimulus for task stop_signal, design 36184: 479.875s\n",
      "nback\n",
      "Offset of last stimulus for task nback, design 88601: 381.27s\n",
      "Offset of last stimulus for task nback, design 19535: 376.671s\n",
      "Offset of last stimulus for task nback, design 90897: 380.831s\n",
      "Offset of last stimulus for task nback, design 73056: 379.134s\n",
      "Offset of last stimulus for task nback, design 31880: 376.172s\n",
      "cued_ts_spatial_ts\n",
      "Offset of last stimulus for task cued_ts_spatial_ts, design 91429: 556.743s\n",
      "Offset of last stimulus for task cued_ts_spatial_ts, design 22780: 551.701s\n",
      "Offset of last stimulus for task cued_ts_spatial_ts, design 40985: 556.506s\n",
      "Offset of last stimulus for task cued_ts_spatial_ts, design 87602: 554.528s\n",
      "Offset of last stimulus for task cued_ts_spatial_ts, design 58894: 554.068s\n",
      "Offset of last stimulus for task cued_ts_spatial_ts, design 70319: 551.287s\n",
      "Offset of last stimulus for task cued_ts_spatial_ts, design 36764: 553.059s\n",
      "Offset of last stimulus for task cued_ts_spatial_ts, design 98515: 551.957s\n",
      "Offset of last stimulus for task cued_ts_spatial_ts, design 97618: 548.681s\n",
      "Offset of last stimulus for task cued_ts_spatial_ts, design 27397: 551.046s\n",
      "flanker_stroop\n",
      "Offset of last stimulus for task flanker_stroop, design 68209: 337.533s\n",
      "Offset of last stimulus for task flanker_stroop, design 15422: 337.189s\n",
      "Offset of last stimulus for task flanker_stroop, design 31794: 337.127s\n",
      "Offset of last stimulus for task flanker_stroop, design 329: 338.06s\n",
      "Offset of last stimulus for task flanker_stroop, design 6312: 336.072s\n",
      "Offset of last stimulus for task flanker_stroop, design 24299: 338.654s\n",
      "Offset of last stimulus for task flanker_stroop, design 73090: 337.437s\n",
      "Offset of last stimulus for task flanker_stroop, design 59047: 338.424s\n",
      "Offset of last stimulus for task flanker_stroop, design 49630: 333.387s\n",
      "Offset of last stimulus for task flanker_stroop, design 33411: 335.649s\n",
      "visual_search\n",
      "Offset of last stimulus for task visual_search, design 71100: 615.26s\n",
      "Offset of last stimulus for task visual_search, design 80989: 610.442s\n",
      "Offset of last stimulus for task visual_search, design 26045: 611.047s\n",
      "Offset of last stimulus for task visual_search, design 499: 615.77s\n",
      "Offset of last stimulus for task visual_search, design 92732: 602.041s\n",
      "ax_cpt\n",
      "Offset of last stimulus for task ax_cpt, design 6510: 938.764s\n",
      "Offset of last stimulus for task ax_cpt, design 89765: 938.504s\n",
      "Offset of last stimulus for task ax_cpt, design 31828: 937.766s\n",
      "Offset of last stimulus for task ax_cpt, design 22576: 939.058s\n",
      "Offset of last stimulus for task ax_cpt, design 80918: 938.063s\n",
      "gng\n",
      "Offset of last stimulus for task gng, design 58200: 506.957s\n",
      "Offset of last stimulus for task gng, design 88337: 508.676s\n",
      "Offset of last stimulus for task gng, design 29911: 504.667s\n",
      "Offset of last stimulus for task gng, design 53204: 506.473s\n",
      "Offset of last stimulus for task gng, design 18175: 509.231s\n",
      "span\n",
      "Offset of last stimulus for task span, design 4273: 661.536s\n",
      "Offset of last stimulus for task span, design 82236: 660.971s\n",
      "Offset of last stimulus for task span, design 12543: 661.041s\n",
      "Offset of last stimulus for task span, design 16810: 660.831s\n",
      "Offset of last stimulus for task span, design 7070: 660.976s\n",
      "spatial_cueing\n",
      "Offset of last stimulus for task spatial_cueing, design 47598: 684.77s\n",
      "Offset of last stimulus for task spatial_cueing, design 34930: 683.324s\n",
      "Offset of last stimulus for task spatial_cueing, design 67601: 686.152s\n",
      "Offset of last stimulus for task spatial_cueing, design 18978: 687.542s\n",
      "Offset of last stimulus for task spatial_cueing, design 55948: 684.188s\n"
     ]
    }
   ],
   "source": [
    "task_name = []\n",
    "design_number = []\n",
    "offset_last_stimulus = []\n",
    "for task_dir in task_dirs:\n",
    "    task = os.path.basename(task_dir)\n",
    "    files = glob.glob(f'{task_dir}/*events*')\n",
    "    print(task)\n",
    "    for file in files:\n",
    "        events_loop = pd.read_csv(file)\n",
    "        filenum = re.search('events_(.*).csv', file).group(1)\n",
    "        offset_last_stimulus_loop = np.round(list(events_loop['onset'][-1:] + events_loop['duration'][-1:])[0], 3)\n",
    "        print(f'Offset of last stimulus for task {task}, design {filenum}: {offset_last_stimulus_loop}s')\n",
    "        task_name.append(task)\n",
    "        design_number.append(filenum)\n",
    "        offset_last_stimulus.append(offset_last_stimulus_loop)\n",
    "\n",
    "\n",
    "design_timings = pd.DataFrame({'task_name': task_name,\n",
    "                               'design_number': design_number,\n",
    "                               'offset_last_stimulus_sec': offset_last_stimulus})\n",
    "\n",
    "design_timings.to_csv(f'{rootdir}/task_timing_info.csv', index=False)"
   ]
  },
  {
   "cell_type": "code",
   "execution_count": null,
   "metadata": {},
   "outputs": [],
   "source": []
  }
 ],
 "metadata": {
  "kernelspec": {
   "display_name": "base",
   "language": "python",
   "name": "python3"
  },
  "language_info": {
   "codemirror_mode": {
    "name": "ipython",
    "version": 3
   },
   "file_extension": ".py",
   "mimetype": "text/x-python",
   "name": "python",
   "nbconvert_exporter": "python",
   "pygments_lexer": "ipython3",
   "version": "3.9.7"
  }
 },
 "nbformat": 4,
 "nbformat_minor": 2
}
